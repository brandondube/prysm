{
 "cells": [
  {
   "cell_type": "markdown",
   "metadata": {},
   "source": [
    "# Polychromatic Propagation\n",
    "\n",
    "This how-to is extremely brief, and covers how to use prysm to model polychromatic propagation.  The user should already be familiar with the [First Diffraction Model](../tutorials/First-Diffraction-Model.ipynb) tutorial before working through this how-to.\n",
    "\n",
    "In optics education, most problems are monochromatic.  In real hardawre, there are some special cases of highly monochromatic sources, such as the HeNe and other noble gas lasers.  However, stars and most other light sources have significant spectral bandwidth.  Properly modeling those situations requires the propagation of polychromatic fields.  Recall that the relationship between the sampling in a pupil plane and the far field is:\n",
    "\n",
    "$$\n",
    "\\theta = \\frac{\\lambda}{D}\n",
    "$$\n",
    "\n",
    "where $D$ is the diameter of the aperture.  Additionally, if we use a lens to focus the beam and invoke the Fourier transforming property of lenses, then:\n",
    "\n",
    "$$\n",
    "dx = \\frac{f\\lambda}{D} = \\lambda\\text{F#}\n",
    "$$\n",
    "\n",
    "where $dx$ is the increment of the abscissa of the image plane and $f$ is the focal length of the lens.\n",
    "\n",
    "This is chromatic (depends on $\\lambda$), so we cannot just compute the Fourier transform of the pupil function for multiple wavelengths and sum them; they will exist on different grids.  The solution to this problem offered by prysm is the matrix triple product DFT, an alternative to the FFT which allows the output grid to be specified directly, rather than being prescribed by the FFT operation (and perhaps any padding attached to the FFT operation).  prysm contains an extremely fast implementation of the matrix triple product DFT, and exposes an interface to it that embeds these changes of variables.\n",
    "\n",
    "Because everything uses physical units, we'll choosen to model a 50mm F/4 lens with a large amount of defocus, so that we can see the blurring of the fresnel rings by broadband illumination.  We'll start by setting up our pupil, and showing a PSF propagated by the usual FFT method:"
   ]
  },
  {
   "cell_type": "code",
   "execution_count": null,
   "metadata": {},
   "outputs": [],
   "source": [
    "import numpy as np\n",
    "\n",
    "from scipy import stats\n",
    "\n",
    "from prysm import (\n",
    "    coordinates,\n",
    "    geometry,\n",
    "    propagation,\n",
    "    polynomials,\n",
    "    _richdata\n",
    ")\n",
    "\n",
    "res = 512\n",
    "fno = 4\n",
    "efl = 150\n",
    "epd = efl/fno\n",
    "r_aper = epd / 2\n",
    "wvl0 = .550\n",
    "\n",
    "res_el = wvl0 * fno * 1.22 / 4 # 4 pixels per airy radius\n",
    "\n",
    "xi, eta = coordinates.make_xy_grid(256, diameter=epd)\n",
    "r, t = coordinates.cart_to_polar(xi,eta)\n",
    "dx = xi[0,1] - xi[0,0]\n",
    "\n",
    "r_aber = r / r_aper\n",
    "\n",
    "coef = wvl0 * 1e3 * 15 # 10 waves of defocus\n",
    "phs = polynomials.hopkins(0,2,0,r_aber,t,1) * coef\n",
    "\n",
    "amp = geometry.circle(r_aper, r)\n",
    "\n",
    "wf = propagation.Wavefront.from_amp_and_phase(amp, phs, wvl0, dx)\n",
    "focused = wf.focus(efl, Q=4).intensity\n",
    "focused.plot2d(xlim=150)"
   ]
  },
  {
   "cell_type": "markdown",
   "metadata": {},
   "source": [
    "Having seen the monochromatic model, we'll now view a polychromatic version of the same.  For the sake of simplicity, we'll assume uniform spectral weighting.  The function `sum_of_xy_modes` is used from the polynomials module to avoid including a duplicate of the same in the psf module.  It is an optimized routine for performing a weighted sum of 2D arrays."
   ]
  },
  {
   "cell_type": "code",
   "execution_count": null,
   "metadata": {},
   "outputs": [],
   "source": [
    "halfbw = 0.2\n",
    "wvls = np.linspace(wvl0*(1-halfbw), wvl0*(1+halfbw), 11)  # 11 discrete wavelengths\n",
    "spectral_weights = np.ones_like(wvls)\n",
    "\n",
    "components = []\n",
    "for wvl in wvls:\n",
    "    wf = propagation.Wavefront.from_amp_and_phase(amp, phs, wvl, dx)\n",
    "    focused = wf.focus_fixed_sampling(efl, res_el, 512) # 512 samples in the output domain\n",
    "    components.append(focused.intensity.data) # sum of intensities, wvls are incoherent to each other\n",
    "    \n",
    "# psf is just an array\n",
    "psf = polynomials.sum_of_2d_modes(components, spectral_weights)\n",
    "# until we enrich it\n",
    "psf = _richdata.RichData(psf, res_el, wvl0)\n",
    "psf.plot2d(xlim=150)"
   ]
  },
  {
   "cell_type": "markdown",
   "metadata": {},
   "source": [
    "We can see that the propagation of a broadband polychromatic field exhibits a lower modulation of the Fresnel rings than the propagation of the monochromatic field.  The Fresnel rings are an interference effect, and due to the lower coherence of a broadband field they are less visible.\n",
    "\n",
    "One can see that the broadband PSF has much lower peak intensity -- this is different to the different normalization rules used by the FFT and MDFT propagation routines in prysm.  This property is subject to change."
   ]
  }
 ],
 "metadata": {
  "kernelspec": {
   "display_name": "Python 3",
   "language": "python",
   "name": "python3"
  },
  "language_info": {
   "codemirror_mode": {
    "name": "ipython",
    "version": 3
   },
   "file_extension": ".py",
   "mimetype": "text/x-python",
   "name": "python",
   "nbconvert_exporter": "python",
   "pygments_lexer": "ipython3",
   "version": "3.8.11"
  }
 },
 "nbformat": 4,
 "nbformat_minor": 4
}
